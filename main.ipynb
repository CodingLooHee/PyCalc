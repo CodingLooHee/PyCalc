{
 "cells": [
  {
   "cell_type": "code",
   "execution_count": 1,
   "metadata": {},
   "outputs": [],
   "source": [
    "import code\n",
    "import enum\n",
    "import os\n",
    "from pathlib import *\n",
    "import numpy as np\n",
    "import sys\n",
    "from art import tprint\n",
    "import colorama\n",
    "colorama.init(autoreset=True)\n",
    "\n",
    "# pycalc package\n",
    "from pycalc.dna2 import *\n",
    "from pycalc.n_base import *\n",
    "from pycalc.units import *\n",
    "\n",
    "\n",
    "# *Additional import\n",
    "'''\n",
    "There are some function that use the same name.\n",
    "The problem is that it overwrite the previous function.\n",
    "But I want it to use function without writing a module name\n",
    "because it reduce my typing speed when I use this calculator.\n",
    "So the solution is to make more important function\n",
    "overwrite the less one.\n",
    "'''\n",
    "# Quite insignificant\n",
    "from matplotlib.pyplot import *\n",
    "from pandas import *\n",
    "# Mild important\n",
    "from pandas import *\n",
    "# Very important\n",
    "from random import *\n",
    "from math import *\n",
    "from statistics import *\n",
    "\n",
    "\n",
    "# *Setting\n",
    "np.set_printoptions(precision=3, suppress=True)\n",
    "\n",
    "\n",
    "# *Rename function / Alternate name for function\n",
    "f = factorial\n",
    "หรม = gcd\n",
    "ครน = lcm\n",
    "\n",
    "\n",
    "#TODO: Still need more test\n",
    "from pycalc.general import *"
   ]
  },
  {
   "cell_type": "markdown",
   "metadata": {},
   "source": [
    "-- Use pycalc here --"
   ]
  },
  {
   "cell_type": "code",
   "execution_count": null,
   "metadata": {},
   "outputs": [],
   "source": []
  }
 ],
 "metadata": {
  "interpreter": {
   "hash": "56cda3c0977c7b6ce5003626385a20d9df102f29a86f7f28bb871ac13a02859e"
  },
  "kernelspec": {
   "display_name": "Python 3.10.4 ('pycalc-92-ZEhaO-py3.10')",
   "language": "python",
   "name": "python3"
  },
  "language_info": {
   "codemirror_mode": {
    "name": "ipython",
    "version": 3
   },
   "file_extension": ".py",
   "mimetype": "text/x-python",
   "name": "python",
   "nbconvert_exporter": "python",
   "pygments_lexer": "ipython3",
   "version": "3.10.4"
  },
  "orig_nbformat": 4
 },
 "nbformat": 4,
 "nbformat_minor": 2
}
